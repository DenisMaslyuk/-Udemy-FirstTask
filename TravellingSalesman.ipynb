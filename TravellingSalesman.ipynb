{
  "nbformat": 4,
  "nbformat_minor": 0,
  "metadata": {
    "colab": {
      "name": "TravellingSalesman.ipynb",
      "provenance": [],
      "collapsed_sections": [],
      "include_colab_link": true
    },
    "kernelspec": {
      "name": "python3",
      "display_name": "Python 3"
    }
  },
  "cells": [
    {
      "cell_type": "markdown",
      "metadata": {
        "id": "view-in-github",
        "colab_type": "text"
      },
      "source": [
        "<a href=\"https://colab.research.google.com/github/DenisMaslyuk/-Udemy-FirstTask/blob/master/TravellingSalesman.ipynb\" target=\"_parent\"><img src=\"https://colab.research.google.com/assets/colab-badge.svg\" alt=\"Open In Colab\"/></a>"
      ]
    },
    {
      "cell_type": "code",
      "metadata": {
        "id": "2YeEekNxSQiK"
      },
      "source": [
        "import numpy as np\n",
        "import networkx as nx\n",
        "import itertools"
      ],
      "execution_count": null,
      "outputs": []
    },
    {
      "cell_type": "code",
      "metadata": {
        "id": "7ry-DSh8QwPh"
      },
      "source": [
        "N = 10 #Количество городов\n",
        "k=100 #Популяция\n",
        "iter=100 #Количество итераций"
      ],
      "execution_count": null,
      "outputs": []
    },
    {
      "cell_type": "code",
      "metadata": {
        "id": "px0guGfw8RPu",
        "colab": {
          "base_uri": "https://localhost:8080/"
        },
        "outputId": "c7b5cc2c-e03c-4eab-a42c-8400e8df279b"
      },
      "source": [
        "#Генерация городов\n",
        "cities = np.random.random_integers(0,2000,size=(N,N))\n",
        "cities = np.maximum( cities, cities.transpose() )\n",
        "for i in range(N):\n",
        "  for j in range(N):\n",
        "    if i<j:#Добавление расстояния на обратный путь\n",
        "      cities[i,j]=cities[i,j]+np.random.random_integers(-200,200) \n",
        "    cities[i,i]=0\n",
        "print(cities)"
      ],
      "execution_count": null,
      "outputs": [
        {
          "output_type": "stream",
          "text": [
            "[[   0 1737  975 1768 1372 1130 1529 1651  960 1080]\n",
            " [1667    0  273 1795 1847 1789 1863  718 1847  971]\n",
            " [1115  385    0 1788 1824 1860  742 1884 1964 1050]\n",
            " [1590 1710 1982    0 1611  866 1717 1763 1725 1273]\n",
            " [1479 1794 1658 1786    0 1264  774 1474 1551 1582]\n",
            " [1029 1889 1924  760 1386    0 1802 2058 1718 1417]\n",
            " [1706 1803  810 1828  618 1618    0  412  673 1156]\n",
            " [1497  807 1877 1646 1391 1869  357    0 1622  302]\n",
            " [1079 1831 1871 1805 1430 1662  724 1604    0 1733]\n",
            " [1107  938 1155 1119 1606 1574 1078  404 1867    0]]\n"
          ],
          "name": "stdout"
        },
        {
          "output_type": "stream",
          "text": [
            "/usr/local/lib/python3.6/dist-packages/ipykernel_launcher.py:2: DeprecationWarning: This function is deprecated. Please call randint(0, 2000 + 1) instead\n",
            "  \n",
            "/usr/local/lib/python3.6/dist-packages/ipykernel_launcher.py:7: DeprecationWarning: This function is deprecated. Please call randint(-200, 200 + 1) instead\n",
            "  import sys\n"
          ],
          "name": "stderr"
        }
      ]
    },
    {
      "cell_type": "code",
      "metadata": {
        "id": "K26OXk888p3G"
      },
      "source": [
        "def distance(cities,way):\n",
        "  sum=0\n",
        "  for i in range(len(way)-1):\n",
        "      sum=sum+cities[way[i]][way[i+1]]\n",
        "  return sum"
      ],
      "execution_count": null,
      "outputs": []
    },
    {
      "cell_type": "markdown",
      "metadata": {
        "id": "hCv_oiR0KtO1"
      },
      "source": [
        "Генерация пути при помощи множества"
      ]
    },
    {
      "cell_type": "code",
      "metadata": {
        "id": "joL4O_qm9BZX"
      },
      "source": [
        "def update_ar_way(ar_way):\n",
        "  way=[i for i in range(N)]\n",
        "  ar_way.clear()\n",
        "  num = {i for i in range(N)}\n",
        "  for i in range(k):\n",
        "    for m in range(N):\n",
        "      rn_num=np.random.choice(list(num))#Выбирается рандомно из множества,                                    \n",
        "      num.discard(rn_num)               #тем самым исключая повторы\n",
        "      way[m]=rn_num\n",
        "    num = {i for i in range(N)}\n",
        "    ar_way.append([list(way),distance(cities,way)])\n",
        "  return ar_way"
      ],
      "execution_count": null,
      "outputs": []
    },
    {
      "cell_type": "code",
      "metadata": {
        "id": "hgcLFM3wkyzw"
      },
      "source": [
        "def all_perms(elements):\n",
        "    if len(elements) <=1:\n",
        "        elements.append(0)\n",
        "        yield elements\n",
        "    else:\n",
        "        for perm in all_perms(elements[1:]):\n",
        "            for i in range(len(elements)):\n",
        "                yield perm[:i] + elements[0:1] + perm[i:]"
      ],
      "execution_count": null,
      "outputs": []
    },
    {
      "cell_type": "code",
      "metadata": {
        "id": "5oMW2nZ4vDzw",
        "colab": {
          "base_uri": "https://localhost:8080/"
        },
        "outputId": "9a5a2347-8875-4354-9b42-41b0843acc6e"
      },
      "source": [
        "print(list(itertools.permutations([1, 2, 3])))"
      ],
      "execution_count": null,
      "outputs": [
        {
          "output_type": "stream",
          "text": [
            "[(1, 2, 3), (1, 3, 2), (2, 1, 3), (2, 3, 1), (3, 1, 2), (3, 2, 1)]\n"
          ],
          "name": "stdout"
        }
      ]
    },
    {
      "cell_type": "code",
      "metadata": {
        "id": "jl8akmEoW4GO"
      },
      "source": [
        "def brute_force(cities,N):\n",
        "  ar_way=[]\n",
        "  way=[i for i in range(1,N)]\n",
        "  #all_ways=list(all_perms(way)) Перебор(N-1)!\n",
        "  #Делаю полный перебор так как в некоторых случаех не явлется минимальным\n",
        "  all_ways=list(itertools.permutations([i for i in range(N)])) \n",
        "\n",
        "  for i in range(len(all_ways)):\n",
        "    ar_way.append([all_ways[i],distance(cities,all_ways[i])])\n",
        "  ar_way.sort(key=lambda w: w[1])\n",
        "  return ar_way\n",
        "\n"
      ],
      "execution_count": null,
      "outputs": []
    },
    {
      "cell_type": "markdown",
      "metadata": {
        "id": "tDgFCd98RWUz"
      },
      "source": [
        "ГА\n",
        "Берет путь и скрещивает со след двумя путями.\n",
        "Так продалжается k//4 раз. В сумме получается N/2 путей.\n",
        "Далее происходит замена первых N/2 путей новыми.\n",
        "Срез пути происходит наполовину. Даллее при помощи множеств\n",
        "ищутся повторения в первой части пути и если находит то рандомно заменяет на оставшиеся города."
      ]
    },
    {
      "cell_type": "code",
      "metadata": {
        "id": "pAVwPBuZQQZZ"
      },
      "source": [
        "def gen_algoritm(cities,N,k,iter):\n",
        "  ar_way=[] #Массив \n",
        "  sub_ar_way=[]\n",
        "  ar_way=update_ar_way(ar_way)\n",
        "  ar_way.sort(key=lambda w: w[1],reverse=True)\n",
        "\n",
        "  for q in range(iter):\n",
        "    sub_ar_way.clear()\n",
        "    for i in range(k//4):\n",
        "      temp_way=list(ar_way[i][0])#Буфер для срезов путей\n",
        "      temp_way2=list(ar_way[i][0])\n",
        "      cut_num=N//2\n",
        "      temp_way[:cut_num]=ar_way[i+1][0][:cut_num]#Замена первой части пути на новую\n",
        "      temp_way2[:cut_num]=ar_way[i+2][0][:cut_num]\n",
        "      \n",
        "      if len(set(temp_way))!=N: #Проверка на повторения\n",
        "        for j in range(N//2):\n",
        "          if temp_way[j] in temp_way[N//2:]:\n",
        "            out_num={i for i in range(N)}\n",
        "            out_num.difference_update(set(temp_way))\n",
        "            temp_way[j]=np.random.choice(list(out_num))#Рандомный выбор из множества\n",
        "      if len(set(temp_way2))!=N:\n",
        "        for j in range(N//2):\n",
        "          if temp_way2[j] in temp_way2[N//2:]:\n",
        "            out_num={i for i in range(N)}\n",
        "            out_num.difference_update(set(temp_way2))\n",
        "            temp_way2[j]=np.random.choice(list(out_num))\n",
        "\n",
        "      sub_ar_way.append([temp_way,distance(cities,temp_way)])\n",
        "      sub_ar_way.append([temp_way2,distance(cities,temp_way2)])\n",
        "\n",
        "    ar_way=update_ar_way(ar_way)\n",
        "    temp_k=k//2\n",
        "    ar_way[:temp_k]=sub_ar_way\n",
        "    ar_way.sort(key=lambda w: w[1])\n",
        "\n",
        "  return ar_way"
      ],
      "execution_count": null,
      "outputs": []
    },
    {
      "cell_type": "code",
      "metadata": {
        "id": "7e-lw_xdmpJa"
      },
      "source": [
        "def draw_graph(ar_way):\n",
        "  G = nx.Graph()\n",
        "  current_way=ar_way[0][0]\n",
        "  for i in range(N-1):\n",
        "    G.add_edge(current_way[i], current_way[i+1])\n",
        "  G.add_edge(current_way[-1],current_way[0])\n",
        "  nx.draw(G, with_labels=True, font_weight='bold')"
      ],
      "execution_count": null,
      "outputs": []
    },
    {
      "cell_type": "code",
      "metadata": {
        "id": "dZ26G6_BzcLo",
        "colab": {
          "base_uri": "https://localhost:8080/"
        },
        "outputId": "4e767049-63a9-4751-f5b5-94f0680ae11f"
      },
      "source": [
        "%prun ar_way_bf=brute_force(cities,N)\n",
        "print(\"БФ Минимальное расстояние =\",ar_way_bf[0][1],\"Путь:\",ar_way_bf[0][0])\n",
        "#draw_graph(ar_way_bf)"
      ],
      "execution_count": null,
      "outputs": [
        {
          "output_type": "stream",
          "text": [
            " БФ Минимальное расстояние = 6721 Путь: (2, 1, 7, 9, 3, 5, 0, 8, 6, 4)\n"
          ],
          "name": "stdout"
        }
      ]
    },
    {
      "cell_type": "code",
      "metadata": {
        "id": "B2vSiN4sUE9s",
        "colab": {
          "base_uri": "https://localhost:8080/"
        },
        "outputId": "474a0520-4e3b-468f-81b7-1306119d9026"
      },
      "source": [
        "%prun ar_way_ga=gen_algoritm(cities,N,k,iter)\n",
        "print(\"ГА Минимальное расстояние =\",ar_way_ga[0][1],\"Путь:\",ar_way_ga[0][0])\n",
        "#draw_graph(ar_way_ga)"
      ],
      "execution_count": null,
      "outputs": [
        {
          "output_type": "stream",
          "text": [
            " ГА Минимальное расстояние = 8772 Путь: [4, 8, 0, 5, 3, 1, 9, 7, 6, 2]\n"
          ],
          "name": "stdout"
        }
      ]
    }
  ]
}